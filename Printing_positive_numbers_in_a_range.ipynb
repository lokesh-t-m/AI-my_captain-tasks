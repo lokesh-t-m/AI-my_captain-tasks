{
  "nbformat": 4,
  "nbformat_minor": 0,
  "metadata": {
    "colab": {
      "provenance": []
    },
    "kernelspec": {
      "name": "python3",
      "display_name": "Python 3"
    },
    "language_info": {
      "name": "python"
    }
  },
  "cells": [
    {
      "cell_type": "code",
      "execution_count": 11,
      "metadata": {
        "colab": {
          "base_uri": "https://localhost:8080/"
        },
        "id": "01cm2GYH8Zno",
        "outputId": "88b64512-73d2-48c9-e189-ec0c396c9725"
      },
      "outputs": [
        {
          "output_type": "stream",
          "name": "stdout",
          "text": [
            "Enter the numbers separated by spaces: 34 -55 3 3 6 5 -90\n",
            "[34, 3, 3, 6, 5]\n"
          ]
        }
      ],
      "source": [
        "nums= input(\"Enter the numbers separated by spaces: \")\n",
        "nums_lst = nums.split()\n",
        "#print(nums_lst)\n",
        "lst = list(map(int, nums_lst))\n",
        "new_lst = []\n",
        "for i in lst:\n",
        "    if i >= 0:\n",
        "        new_lst.append(i)\n",
        "\n",
        "print(new_lst)"
      ]
    }
  ]
}