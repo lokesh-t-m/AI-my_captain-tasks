{
  "nbformat": 4,
  "nbformat_minor": 0,
  "metadata": {
    "colab": {
      "provenance": []
    },
    "kernelspec": {
      "name": "python3",
      "display_name": "Python 3"
    },
    "language_info": {
      "name": "python"
    }
  },
  "cells": [
    {
      "cell_type": "code",
      "execution_count": 5,
      "metadata": {
        "colab": {
          "base_uri": "https://localhost:8080/"
        },
        "id": "w8wCYVnj_ZYK",
        "outputId": "75c79d8f-5e65-4587-a203-e1e187bfe3b0"
      },
      "outputs": [
        {
          "output_type": "stream",
          "name": "stdout",
          "text": [
            "Union of E and N: {0, 1, 2, 3, 4, 5, 6, 8}\n",
            "Intersection of E and N: {2, 4}\n",
            "Difference of E and N: {0, 8, 6}\n",
            "Symmetric difference of E and N: {0, 1, 3, 5, 6, 8}\n"
          ]
        }
      ],
      "source": [
        "#set operations\n",
        "N={1,2,3,4,5}\n",
        "E={0,2,4,6,8}\n",
        "print(\"Union of E and N:\",E.union(N))\n",
        "print(\"Intersection of E and N:\",E.intersection(N))\n",
        "print(\"Difference of E and N:\", E.difference(N))\n",
        "print(\"Symmetric difference of E and N:\",E.symmetric_difference(N))\n"
      ]
    }
  ]
}