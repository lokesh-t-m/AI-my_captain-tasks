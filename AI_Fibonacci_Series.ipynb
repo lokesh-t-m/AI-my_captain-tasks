{
  "nbformat": 4,
  "nbformat_minor": 0,
  "metadata": {
    "colab": {
      "provenance": []
    },
    "kernelspec": {
      "name": "python3",
      "display_name": "Python 3"
    },
    "language_info": {
      "name": "python"
    }
  },
  "cells": [
    {
      "cell_type": "code",
      "execution_count": 8,
      "metadata": {
        "colab": {
          "base_uri": "https://localhost:8080/"
        },
        "id": "vuLy6B864j7O",
        "outputId": "ec3f54d4-49ac-431f-d078-763a06a24574"
      },
      "outputs": [
        {
          "output_type": "stream",
          "name": "stdout",
          "text": [
            "enter max range: 145\n",
            "the fibonacci series is: \n",
            "[0, 1, 1, 2, 3, 5, 8, 13, 21, 34, 55, 89, 144]\n"
          ]
        }
      ],
      "source": [
        "# Fibonacci Series:\n",
        "n=int(input(\"enter max range: \"))\n",
        "\n",
        "a=0\n",
        "b=1\n",
        "ref=0\n",
        "lisst=[]\n",
        "lisst.append(a)\n",
        "lisst.append(b)\n",
        "#print(lisst)\n",
        "while ref<n:\n",
        "  sum=a+b\n",
        "  if sum<=n:\n",
        "    lisst.append(a+b)\n",
        "  ref=sum\n",
        "  a=lisst[-2]\n",
        "  b=lisst[-1]\n",
        "print(\"the fibonacci series is: \")\n",
        "print(lisst)\n"
      ]
    }
  ]
}